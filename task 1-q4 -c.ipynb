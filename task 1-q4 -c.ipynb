{
 "cells": [
  {
   "cell_type": "code",
   "execution_count": 1,
   "id": "5188c9eb",
   "metadata": {},
   "outputs": [],
   "source": [
    "import numpy as np\n",
    "import pandas as pd\n",
    "from scipy.spatial.distance import euclidean as edist, cosine as cdist\n",
    "from sklearn.metrics import pairwise_distances_argmin_min\n",
    "from sklearn.preprocessing import LabelEncoder\n",
    "\n",
    "# distance computation functions\n",
    "edist_calculation = lambda k, l: edist(k, l)\n",
    "cosine_similaritycheck = lambda k, l: 1 - np.dot(k, l) / (np.linalg.norm(k) * np.linalg.norm(l))\n",
    "jaccard_similaritycheck = lambda k, l: 1 - np.minimum(k, l).sum() / np.maximum(k, l).sum() if np.maximum(k, l).sum() != 0 else 0\n",
    "\n"
   ]
  },
  {
   "cell_type": "code",
   "execution_count": 2,
   "id": "0fd0ed15",
   "metadata": {},
   "outputs": [
    {
     "name": "stdout",
     "output_type": "stream",
     "text": [
      "Method: Euclidean, SSE: 25318282146.627342, Iterations: 100, Accuracy: 0.5941594159415942\n",
      "Method: Cosine, SSE: 681.9450004717286, Iterations: 100, Accuracy: 0.6109610961096109\n",
      "Method: Jaccard, SSE: 3693.5331510709843, Iterations: 100, Accuracy: 0.5446544654465446\n"
     ]
    }
   ],
   "source": [
    "# q4 when the maximum preset value (e.g., 100) of iteration is complete\n",
    "# performing K -Means\n",
    "def kmeans(data, n, dist_func, max_iter=100):\n",
    "    rand_indices = np.random.choice(data.shape[0], n, replace=False)\n",
    "    centers = data[rand_indices]\n",
    "    i = 0 #iteration count\n",
    "    prev_sse = None\n",
    "    \n",
    "    while i < max_iter:\n",
    "        clusters = np.array([np.argmin(list(map(lambda center: dist_func(point, center), centers))) for point in data])\n",
    "        new_centers = np.array([np.mean(data[np.where(clusters == idx)], axis=0) for idx in range(n)])\n",
    "        \n",
    "        #if np.array_equal(centers, new_centers):\n",
    "            #break\n",
    "        \n",
    "        #if prev_sse is not None and np.sum(np.square(pairwise_distances_argmin_min(data, centers, metric=dist_func)[1])) > prev_sse:\n",
    "            #break\n",
    "        \n",
    "        prev_sse = np.sum(np.square(pairwise_distances_argmin_min(data, centers, metric=dist_func)[1]))\n",
    "        centers = new_centers\n",
    "        i += 1\n",
    "    \n",
    "    return clusters, centers, prev_sse, i\n",
    "# Loading the dataset\n",
    "data = pd.read_csv('data.csv').values\n",
    "# Flattening the values\n",
    "labels = pd.read_csv('label.csv').values.flatten()\n",
    "#Determining the length of unique clusters\n",
    "uniqueclusters =  len(np.unique(labels))\n",
    "def accuracycalc(clusters, labels):\n",
    "    c_labels = {}\n",
    "    unique_clusters = np.unique(clusters)  # Use np.unique to get unique cluster labels\n",
    "    for cluster in unique_clusters:\n",
    "        c_label = labels[clusters == cluster]\n",
    "        c_label = np.ravel(c_label).astype(int)  # Convert to integer array\n",
    "        label_popular = np.argmax(np.bincount(c_label))\n",
    "        c_labels[cluster] = label_popular\n",
    "    \n",
    "    # Calculate accuracy\n",
    "    accurate_count = sum(c_labels[cluster] == label for cluster, label in zip(clusters, labels))\n",
    "    accuracy = accurate_count / len(labels)\n",
    "    return accuracy\n",
    "# Define distance functions and their names\n",
    "distance_functions = [\n",
    "    (edist_calculation, 'Euclidean'),\n",
    "    (cosine_similaritycheck, 'Cosine'),\n",
    "    (jaccard_similaritycheck, 'Jaccard')\n",
    "]\n",
    "\n",
    "# Initialize dictionary to store results\n",
    "kmeans_results = {}\n",
    "\n",
    "# Execute K-means with each distance metric and store results\n",
    "results_iter = iter(distance_functions)\n",
    "while True:\n",
    "    try:\n",
    "        d_function, f_name = next(results_iter)\n",
    "        clusters, centers, sse, iters = kmeans(data, uniqueclusters, d_function)\n",
    "        accuracy = accuracycalc(clusters, labels)\n",
    "        kmeans_results[f_name] = {\n",
    "            'Sum of Squared Errors': sse, \n",
    "            'Iterations Completed': iters,\n",
    "            'Accuracy': accuracy\n",
    "        }\n",
    "    except StopIteration:\n",
    "        break\n",
    "\n",
    "# Print formatted results with accuracy\n",
    "results_iter = iter(kmeans_results.items())\n",
    "while True:\n",
    "    try:\n",
    "        method, result = next(results_iter)\n",
    "        print(f\"Method: {method}, SSE: {result['Sum of Squared Errors']}, Iterations: {result['Iterations Completed']}, Accuracy: {result['Accuracy']}\")\n",
    "    except StopIteration:\n",
    "        break\n"
   ]
  },
  {
   "cell_type": "code",
   "execution_count": null,
   "id": "d7df6326",
   "metadata": {},
   "outputs": [],
   "source": []
  }
 ],
 "metadata": {
  "kernelspec": {
   "display_name": "Python 3 (ipykernel)",
   "language": "python",
   "name": "python3"
  },
  "language_info": {
   "codemirror_mode": {
    "name": "ipython",
    "version": 3
   },
   "file_extension": ".py",
   "mimetype": "text/x-python",
   "name": "python",
   "nbconvert_exporter": "python",
   "pygments_lexer": "ipython3",
   "version": "3.9.12"
  }
 },
 "nbformat": 4,
 "nbformat_minor": 5
}
