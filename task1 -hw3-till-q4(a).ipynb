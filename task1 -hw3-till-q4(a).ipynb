{
 "cells": [
  {
   "cell_type": "code",
   "execution_count": 38,
   "id": "02d1ad79",
   "metadata": {},
   "outputs": [],
   "source": [
    "import numpy as np\n",
    "import pandas as pd\n",
    "from scipy.spatial.distance import euclidean as edist, cosine as cdist\n",
    "from sklearn.metrics import pairwise_distances_argmin_min\n",
    "from sklearn.preprocessing import LabelEncoder\n",
    "\n",
    "# distance computation functions\n",
    "edist_calculation = lambda k, l: edist(k, l)\n",
    "cosine_similaritycheck = lambda k, l: 1 - np.dot(k, l) / (np.linalg.norm(k) * np.linalg.norm(l))\n",
    "jaccard_similaritycheck = lambda k, l: 1 - np.minimum(k, l).sum() / np.maximum(k, l).sum() if np.maximum(k, l).sum() != 0 else 0\n",
    "\n"
   ]
  },
  {
   "cell_type": "code",
   "execution_count": 39,
   "id": "17911c72",
   "metadata": {},
   "outputs": [],
   "source": [
    "# performing K -Means\n",
    "def kmeans(data, n, dist_func, max_iter=500):\n",
    "    rand_indices = np.random.choice(data.shape[0], n, replace=False)\n",
    "    centers = data[rand_indices]\n",
    "    i = 0 #iteration count\n",
    "    prev_sse = None\n",
    "    start_time = time.time()\n",
    "    \n",
    "    while i < max_iter:\n",
    "        clusters = np.array([np.argmin(list(map(lambda center: dist_func(point, center), centers))) for point in data])\n",
    "        new_centers = np.array([np.mean(data[np.where(clusters == idx)], axis=0) for idx in range(n)])\n",
    "        \n",
    "        if np.array_equal(centers, new_centers):\n",
    "            break\n",
    "        \n",
    "        if prev_sse is not None and np.sum(np.square(pairwise_distances_argmin_min(data, centers, metric=dist_func)[1])) > prev_sse:\n",
    "            break\n",
    "        \n",
    "        prev_sse = np.sum(np.square(pairwise_distances_argmin_min(data, centers, metric=dist_func)[1]))\n",
    "        centers = new_centers\n",
    "        i += 1\n",
    "    end_time = time.time()\n",
    "    return clusters, centers, prev_sse, i,end_time -start_time"
   ]
  },
  {
   "cell_type": "code",
   "execution_count": 40,
   "id": "1ef7141b",
   "metadata": {},
   "outputs": [],
   "source": [
    "# Loading the dataset\n",
    "data = pd.read_csv('data.csv').values\n",
    "# Flattening the values\n",
    "labels = pd.read_csv('label.csv').values.flatten()"
   ]
  },
  {
   "cell_type": "code",
   "execution_count": 41,
   "id": "e09c9dfb",
   "metadata": {},
   "outputs": [],
   "source": [
    "#Determining the length of unique clusters\n",
    "uniqueclusters =  len(np.unique(labels))"
   ]
  },
  {
   "cell_type": "code",
   "execution_count": 42,
   "id": "a6c6f3ef",
   "metadata": {},
   "outputs": [],
   "source": [
    "def accuracycalc(clusters, labels):\n",
    "    c_labels = {}\n",
    "    unique_clusters = np.unique(clusters)  # Use np.unique to get unique cluster labels\n",
    "    for cluster in unique_clusters:\n",
    "        c_label = labels[clusters == cluster]\n",
    "        c_label = np.ravel(c_label).astype(int)  # Convert to integer array\n",
    "        label_popular = np.argmax(np.bincount(c_label))\n",
    "        c_labels[cluster] = label_popular\n",
    "    \n",
    "    # Calculate accuracy\n",
    "    accurate_count = sum(c_labels[cluster] == label for cluster, label in zip(clusters, labels))\n",
    "    accuracy = accurate_count / len(labels)\n",
    "    return accuracy"
   ]
  },
  {
   "cell_type": "code",
   "execution_count": 43,
   "id": "39547b2d",
   "metadata": {},
   "outputs": [
    {
     "name": "stdout",
     "output_type": "stream",
     "text": [
      "Method: Euclidean, SSE: 25473898606.485294, Iterations: 76, Accuracy: 0.603060306030603\n",
      "Method: Cosine, SSE: 682.2266686639317, Iterations: 33, Accuracy: 0.5937593759375938\n",
      "Method: Jaccard, SSE: 4208.689080624973, Iterations: 1, Accuracy: 0.42824282428242827\n"
     ]
    }
   ],
   "source": [
    "# Define distance functions and their names\n",
    "distance_functions = [\n",
    "    (edist_calculation, 'Euclidean'),\n",
    "    (cosine_similaritycheck, 'Cosine'),\n",
    "    (jaccard_similaritycheck, 'Jaccard')\n",
    "]\n",
    "\n",
    "# Initialize dictionary to store results\n",
    "kmeans_results = {}\n",
    "\n",
    "# Execute K-means with each distance metric and store results\n",
    "results_iter = iter(distance_functions)\n",
    "while True:\n",
    "    try:\n",
    "        d_function, f_name = next(results_iter)\n",
    "        clusters, centers, sse, iters = kmeans(data, uniqueclusters, d_function)\n",
    "        accuracy = accuracycalc(clusters, labels)\n",
    "        kmeans_results[f_name] = {\n",
    "            'Sum of Squared Errors': sse, \n",
    "            'Iterations Completed': iters,\n",
    "            'Accuracy': accuracy\n",
    "            'Time to Converge': time_to_converge\n",
    "        }\n",
    "    except StopIteration:\n",
    "        break\n",
    "\n",
    "# Print formatted results with accuracy\n",
    "results_iter = iter(kmeans_results.items())\n",
    "while True:\n",
    "    try:\n",
    "        method, result = next(results_iter)\n",
    "        print(f\"Method: {method}, SSE: {result['Sum of Squared Errors']}, Iterations: {result['Iterations Completed']}, Accuracy: {result['Accuracy']}\")\n",
    "    except StopIteration:\n",
    "        break\n"
   ]
  },
  {
   "cell_type": "code",
   "execution_count": 47,
   "id": "d61a2e1e",
   "metadata": {},
   "outputs": [
    {
     "name": "stdout",
     "output_type": "stream",
     "text": [
      "Method: Euclidean, SSE: 25406097880.991848, Iterations: 59, Accuracy: 0.5978597859785979\n",
      "Method: Cosine, SSE: 692.3585331924694, Iterations: 61, Accuracy: 0.5978597859785979\n",
      "Method: Jaccard, SSE: 3660.6903681275694, Iterations: 44, Accuracy: 0.6015601560156015\n"
     ]
    }
   ],
   "source": [
    "# q4 when there is no change in centroid\n",
    "# performing K -Means\n",
    "def kmeans(data, n, dist_func, max_iter=500):\n",
    "    rand_indices = np.random.choice(data.shape[0], n, replace=False)\n",
    "    centers = data[rand_indices]\n",
    "    i = 0 #iteration count\n",
    "    prev_sse = None\n",
    "    \n",
    "    while i < max_iter:\n",
    "        clusters = np.array([np.argmin(list(map(lambda center: dist_func(point, center), centers))) for point in data])\n",
    "        new_centers = np.array([np.mean(data[np.where(clusters == idx)], axis=0) for idx in range(n)])\n",
    "        \n",
    "        if np.array_equal(centers, new_centers):\n",
    "            break\n",
    "        \n",
    "        #if prev_sse is not None and np.sum(np.square(pairwise_distances_argmin_min(data, centers, metric=dist_func)[1])) > prev_sse:\n",
    "            #break\n",
    "        \n",
    "        prev_sse = np.sum(np.square(pairwise_distances_argmin_min(data, centers, metric=dist_func)[1]))\n",
    "        centers = new_centers\n",
    "        i += 1\n",
    "    \n",
    "    return clusters, centers, prev_sse, i\n",
    "# Loading the dataset\n",
    "data = pd.read_csv('data.csv').values\n",
    "# Flattening the values\n",
    "labels = pd.read_csv('label.csv').values.flatten()\n",
    "#Determining the length of unique clusters\n",
    "uniqueclusters =  len(np.unique(labels))\n",
    "def accuracycalc(clusters, labels):\n",
    "    c_labels = {}\n",
    "    unique_clusters = np.unique(clusters)  # Use np.unique to get unique cluster labels\n",
    "    for cluster in unique_clusters:\n",
    "        c_label = labels[clusters == cluster]\n",
    "        c_label = np.ravel(c_label).astype(int)  # Convert to integer array\n",
    "        label_popular = np.argmax(np.bincount(c_label))\n",
    "        c_labels[cluster] = label_popular\n",
    "    \n",
    "    # Calculate accuracy\n",
    "    accurate_count = sum(c_labels[cluster] == label for cluster, label in zip(clusters, labels))\n",
    "    accuracy = accurate_count / len(labels)\n",
    "    return accuracy\n",
    "# Define distance functions and their names\n",
    "distance_functions = [\n",
    "    (edist_calculation, 'Euclidean'),\n",
    "    (cosine_similaritycheck, 'Cosine'),\n",
    "    (jaccard_similaritycheck, 'Jaccard')\n",
    "]\n",
    "\n",
    "# Initialize dictionary to store results\n",
    "kmeans_results = {}\n",
    "\n",
    "# Execute K-means with each distance metric and store results\n",
    "results_iter = iter(distance_functions)\n",
    "while True:\n",
    "    try:\n",
    "        d_function, f_name = next(results_iter)\n",
    "        clusters, centers, sse, iters = kmeans(data, uniqueclusters, d_function)\n",
    "        accuracy = accuracycalc(clusters, labels)\n",
    "        kmeans_results[f_name] = {\n",
    "            'Sum of Squared Errors': sse, \n",
    "            'Iterations Completed': iters,\n",
    "            'Accuracy': accuracy\n",
    "        }\n",
    "    except StopIteration:\n",
    "        break\n",
    "\n",
    "# Print formatted results with accuracy\n",
    "results_iter = iter(kmeans_results.items())\n",
    "while True:\n",
    "    try:\n",
    "        method, result = next(results_iter)\n",
    "        print(f\"Method: {method}, SSE: {result['Sum of Squared Errors']}, Iterations: {result['Iterations Completed']}, Accuracy: {result['Accuracy']}\")\n",
    "    except StopIteration:\n",
    "        break\n"
   ]
  },
  {
   "cell_type": "code",
   "execution_count": null,
   "id": "ceebeddc",
   "metadata": {},
   "outputs": [],
   "source": []
  },
  {
   "cell_type": "code",
   "execution_count": null,
   "id": "56461d2f",
   "metadata": {},
   "outputs": [],
   "source": [
    "\n"
   ]
  }
 ],
 "metadata": {
  "kernelspec": {
   "display_name": "Python 3 (ipykernel)",
   "language": "python",
   "name": "python3"
  },
  "language_info": {
   "codemirror_mode": {
    "name": "ipython",
    "version": 3
   },
   "file_extension": ".py",
   "mimetype": "text/x-python",
   "name": "python",
   "nbconvert_exporter": "python",
   "pygments_lexer": "ipython3",
   "version": "3.9.12"
  }
 },
 "nbformat": 4,
 "nbformat_minor": 5
}
